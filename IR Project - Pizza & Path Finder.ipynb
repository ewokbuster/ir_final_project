{
 "cells": [
  {
   "cell_type": "markdown",
   "metadata": {},
   "source": [
    "Collection - Standard\n",
    "    <br>Pizza Beacon\n",
    "    <br>Distance - Line\n",
    "    <br>Distance - Obstacles\n",
    "    <br>Distance - Calculation"
   ]
  },
  {
   "cell_type": "code",
   "execution_count": 90,
   "metadata": {},
   "outputs": [],
   "source": [
    "#Initializing the position of the robot & the position of the pizzas that are appeared at random\n",
    "\n",
    "robot_position = [(4,3)]\n",
    "pizza_position = [(0,0), (9,0), (4,0)]"
   ]
  },
  {
   "cell_type": "code",
   "execution_count": 2,
   "metadata": {},
   "outputs": [],
   "source": [
    "#Finding the Euclidean Distance between the robot and each of the pizzas\n",
    "\n",
    "def euclideanDistance(coordinate1, coordinate2):\n",
    "    return pow(pow(coordinate1[0] - coordinate2[0], 2) + pow(coordinate1[1] - coordinate2[1], 2), .5)"
   ]
  },
  {
   "cell_type": "code",
   "execution_count": 3,
   "metadata": {},
   "outputs": [],
   "source": [
    "#Finding the pizza closest to the robot\n",
    "\n",
    "def Closest_Pizza_Pos(robot_position, pizza_position):\n",
    "    distances = []\n",
    "    \n",
    "    for j in range(len(pizza_position)):\n",
    "        distances += [euclideanDistance(robot_position[0],pizza_position[j])]\n",
    "    \n",
    "    min_distance = min(distances)\n",
    "    shortest_pizza_pos = distances.index(min_distance)\n",
    "    \n",
    "    #Returns the closest pizza\n",
    "    return shortest_pizza_pos  "
   ]
  },
  {
   "cell_type": "code",
   "execution_count": 91,
   "metadata": {},
   "outputs": [
    {
     "data": {
      "text/plain": [
       "2"
      ]
     },
     "execution_count": 91,
     "metadata": {},
     "output_type": "execute_result"
    }
   ],
   "source": [
    "#Calling the function to find the nearest pizza\n",
    "pizza_pos = Closest_Pizza_Pos(robot_position, pizza_position)\n",
    "pizza_pos"
   ]
  },
  {
   "cell_type": "code",
   "execution_count": null,
   "metadata": {},
   "outputs": [],
   "source": []
  },
  {
   "cell_type": "code",
   "execution_count": null,
   "metadata": {},
   "outputs": [],
   "source": []
  },
  {
   "cell_type": "code",
   "execution_count": 92,
   "metadata": {},
   "outputs": [
    {
     "data": {
      "image/png": "[encoded data removed]",
      "text/plain": [
       "<Figure size 216x360 with 1 Axes>"
      ]
     },
     "metadata": {},
     "output_type": "display_data"
    }
   ],
   "source": [
    "import networkx as nx\n",
    "from matplotlib import pyplot as plt\n",
    "\n",
    "#Creating a 2D graph\n",
    "Graph1 = nx.grid_2d_graph(10,4)\n",
    "\n",
    "#Plotting the graph\n",
    "plt.figure(figsize=(3,5))\n",
    "pos = {(x,y):(y,-x) for x,y in Graph1.nodes()}\n",
    "nx.draw(Graph1, pos=pos, \n",
    "        node_color='lightgreen', \n",
    "        with_labels=True,\n",
    "        node_size=1000)"
   ]
  },
  {
   "cell_type": "code",
   "execution_count": 6,
   "metadata": {},
   "outputs": [],
   "source": [
    "#Function to find the pizza without considering the obstacles\n",
    "\n",
    "def Path_Finder(initial, final, Graph1):\n",
    "    G=Graph1\n",
    "    path = nx.bidirectional_shortest_path(G, source=initial, target=final)\n",
    "    return path\n"
   ]
  },
  {
   "cell_type": "code",
   "execution_count": 101,
   "metadata": {},
   "outputs": [
    {
     "name": "stdout",
     "output_type": "stream",
     "text": [
      "Position of the robot: (4, 3)\n",
      "Position of the target pizza: (4, 0)\n",
      "Path to reach the pizza: [(4, 3), (4, 2), (4, 1), (4, 0)]\n"
     ]
    }
   ],
   "source": [
    "#Robot's coordinates\n",
    "initial = robot_position[0]\n",
    "print('Position of the robot:', initial)\n",
    "      \n",
    "#Target pizza's coordinates\n",
    "final = pizza_position[pizza_pos]\n",
    "print('Position of the target pizza:', final)\n",
    "\n",
    "path = Path_Finder(initial, final, Graph1)\n",
    "print('Path to reach the pizza:', path)"
   ]
  },
  {
   "cell_type": "code",
   "execution_count": 7,
   "metadata": {},
   "outputs": [],
   "source": [
    "#Defining a class to create nodes\n",
    "\n",
    "class Node():\n",
    "    #A node class for the A star Pathfinding\n",
    "\n",
    "    def __init__(self, parent=None, position=None):\n",
    "\n",
    "        self.parent = parent\n",
    "        self.position = position\n",
    "\n",
    "        #is the distance between the node\n",
    "        self.gCost = 0\n",
    "        #h cost is also called heuristc value (estimated value)\n",
    "        self.hCost = 0\n",
    "        #f cost is gCost + hCost\n",
    "        self.fCost = 0\n",
    "\n",
    "    def __eq__(self, other):\n",
    "        return self.position == other.position\n",
    "    \n",
    "\n",
    "#Defining A* algorithm\n",
    "\n",
    "def algorithm(grid, start, end):\n",
    "    # Create start and end node\n",
    "\n",
    "    startNode = Node(None, start)\n",
    "    startNode.gCost = startNode.hCost = startNode.fCost = 0\n",
    "    endNode = Node(None, end)\n",
    "    endNode.gCost = endNode.hCost = endNode.fCost = 0\n",
    "\n",
    "    # Initialize both open and closed list\n",
    "    openList = []\n",
    "    closedList = []\n",
    "    openList.append(startNode)\n",
    "\n",
    "    # Loop until you find the end node\n",
    "    while len(openList) > 0:\n",
    "        currentNode = openList[0]\n",
    "        currentIndex = 0\n",
    "\n",
    "        for index, item in enumerate(openList):\n",
    "            if item.fCost < currentNode.fCost:\n",
    "                currentNode = item\n",
    "                currentIndex = index\n",
    "\n",
    "        # add to closed list\n",
    "        openList.pop(currentIndex)\n",
    "        closedList.append(currentNode)\n",
    "\n",
    "        # reach the Destination\n",
    "        if currentNode == endNode:\n",
    "            path = []\n",
    "            current = currentNode\n",
    "\n",
    "            while current is not None:\n",
    "                path.append(current.position)\n",
    "                current = current.parent\n",
    "            # Return reversed path\n",
    "            return path[::-1] \n",
    "\n",
    "        children = []\n",
    "        for new_position in [(0, -1), (0, 1), (-1, 0), (1, 0), (-1, -1), (-1, 1), (1, -1), (1, 1)]:\n",
    "\n",
    "            node_position = (currentNode.position[0] + new_position[0], currentNode.position[1] + new_position[1])\n",
    "\n",
    "            # Make sure is within range\n",
    "            if node_position[0] > (len(grid) - 1) or node_position[0] < 0 or node_position[1] > (len(grid[len(grid)-1]) -1) or node_position[1] < 0:\n",
    "                continue\n",
    "\n",
    "            # Make sure walkable \n",
    "            if grid[node_position[0]][node_position[1]] != 0:\n",
    "                continue\n",
    "\n",
    "            # Create a new node\n",
    "            new_node = Node(currentNode, node_position)\n",
    "            children.append(new_node)\n",
    "        for child in children:\n",
    "            for closed_child in closedList:\n",
    "                if child == closed_child:\n",
    "                    continue\n",
    "\n",
    "            # Create the f, g, and h values\n",
    "            child.gCost = currentNode.gCost + 1\n",
    "            child.hCost = ((child.position[0] - endNode.position[0]) ** 2) + ((child.position[1] - endNode.position[1]) ** 2)\n",
    "            child.fCost = child.gCost + child.hCost\n",
    "            for openNode in openList:\n",
    "                if child == openNode and child.gCost > openNode.gCost:\n",
    "                    continue\n",
    "            openList.append(child)\n",
    "            \n",
    "            \n",
    "\n"
   ]
  },
  {
   "cell_type": "code",
   "execution_count": 102,
   "metadata": {},
   "outputs": [
    {
     "name": "stdout",
     "output_type": "stream",
     "text": [
      "[(4, 3), (4, 2), (3, 1), (4, 0)]\n"
     ]
    }
   ],
   "source": [
    "#Initializing the map\n",
    "grid =[[0, 0, 0, 0],\n",
    "       [0, 0, 0, 0],\n",
    "       [0, 1, 1, 0],\n",
    "       [0, 0, 0, 0],\n",
    "       [0, 1, 0, 0],\n",
    "       [0, 1, 0, 0],\n",
    "       [0, 0, 0, 0],\n",
    "       [0, 0, 0, 0],\n",
    "       [0, 1, 1, 0],\n",
    "       [0, 0, 0, 0]]\n",
    "\n",
    "StartNode = initial\n",
    "EndNode = final\n",
    "layout = algorithm(grid, StartNode, EndNode)\n",
    "print(layout)\n"
   ]
  },
  {
   "cell_type": "code",
   "execution_count": null,
   "metadata": {},
   "outputs": [],
   "source": []
  },
  {
   "cell_type": "code",
   "execution_count": null,
   "metadata": {},
   "outputs": [],
   "source": []
  },
  {
   "cell_type": "code",
   "execution_count": null,
   "metadata": {},
   "outputs": [],
   "source": []
  },
  {
   "cell_type": "code",
   "execution_count": null,
   "metadata": {},
   "outputs": [],
   "source": []
  },
  {
   "cell_type": "code",
   "execution_count": 8,
   "metadata": {},
   "outputs": [],
   "source": []
  },
  {
   "cell_type": "code",
   "execution_count": 55,
   "metadata": {},
   "outputs": [],
   "source": []
  },
  {
   "cell_type": "code",
   "execution_count": null,
   "metadata": {},
   "outputs": [],
   "source": []
  },
  {
   "cell_type": "code",
   "execution_count": null,
   "metadata": {},
   "outputs": [],
   "source": []
  },
  {
   "cell_type": "code",
   "execution_count": null,
   "metadata": {},
   "outputs": [],
   "source": []
  },
  {
   "cell_type": "code",
   "execution_count": null,
   "metadata": {},
   "outputs": [],
   "source": []
  }
 ],
 "metadata": {
  "kernelspec": {
   "display_name": "Python 3",
   "language": "python",
   "name": "python3"
  },
  "language_info": {
   "codemirror_mode": {
    "name": "ipython",
    "version": 3
   },
   "file_extension": ".py",
   "mimetype": "text/x-python",
   "name": "python",
   "nbconvert_exporter": "python",
   "pygments_lexer": "ipython3",
   "version": "3.8.3"
  }
 },
 "nbformat": 4,
 "nbformat_minor": 4
}
